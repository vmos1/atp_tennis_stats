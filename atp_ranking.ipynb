{
 "metadata": {
  "name": "",
  "signature": "sha256:ef624c6c3c113598ba11dde52ad41b1f69f3b8040129983a81f6e73b1efb0fb6"
 },
 "nbformat": 3,
 "nbformat_minor": 0,
 "worksheets": [
  {
   "cells": [
    {
     "cell_type": "heading",
     "level": 1,
     "metadata": {},
     "source": [
      "This code reads a player name, and looks at his ranking variation with time."
     ]
    },
    {
     "cell_type": "code",
     "collapsed": false,
     "input": [
      "import numpy as np\n",
      "import pandas as pd\n",
      "%matplotlib inline\n",
      "import matplotlib.pyplot as plt\n",
      "import glob\n",
      "import os\n",
      "import datetime"
     ],
     "language": "python",
     "metadata": {},
     "outputs": [],
     "prompt_number": 1
    },
    {
     "cell_type": "code",
     "collapsed": false,
     "input": [
      "def f_get_time(t):\n",
      "    ss=t\n",
      "    print type(t)\n",
      "    try:\n",
      "        return datetime.date(int(ss[:4]),int(ss[4:6]),int(ss[6:]))\n",
      "    except : \n",
      "        print \"Error\",ss,len(ss)\n",
      "        return datetime.date(1000,1,1)\n",
      "\n",
      "# This function reads a first and last name of a player and returns his profile from the players' data.\n",
      "def f_pick_player(fn,ln):\n",
      "#     df=pd.read_csv('atp_players.csv',index_col=None,header=None,parse_dates=[4],date_parser=lambda t:parse(t))\n",
      "    df=pd.read_csv(os.getcwd()+'/data/atp_players.csv',index_col=None,header=None)\n",
      "    df.columns=['ID','fname','lname','handed','DOB','Country']\n",
      "    df['DOB'].fillna(000,inplace=True)\n",
      "    df['DOB']=pd.to_datetime(df['DOB'].astype(int),format='%Y%m%d',coerce=True)\n",
      "    dt=df.loc[(df['fname']== fn) & (df['lname']== ln)]\n",
      "    \n",
      "    if dt.shape[0]==0 : \n",
      "        print \"No player found\"\n",
      "        raise SystemExit\n",
      "    \n",
      "    return(dt)\n",
      "\n",
      "# This function readings all the ATP rankings data for all years and stores it in a concatenated data frame\n",
      "def f_read_rankings():\n",
      "    pth=glob.glob(os.getcwd()+'/data/rankings_data/atp_rankings_'+\"*.csv\")\n",
      "    lst=[]\n",
      "    for fname in pth:\n",
      "        df=pd.read_csv(fname,index_col=None,header=None)\n",
      "        df.columns=['date','ranking','ID','Points']\n",
      "        df['date']=pd.to_datetime(df['date'].astype(int).astype(str),format='%Y%m%d')\n",
      "\n",
      "        lst.append(df)\n",
      "    ranks=pd.concat(lst)\n",
      "    return ranks\n",
      "\n"
     ],
     "language": "python",
     "metadata": {},
     "outputs": [],
     "prompt_number": 9
    },
    {
     "cell_type": "code",
     "collapsed": false,
     "input": [
      "d_rnks=f_read_rankings()"
     ],
     "language": "python",
     "metadata": {},
     "outputs": [],
     "prompt_number": 10
    },
    {
     "cell_type": "code",
     "collapsed": false,
     "input": [
      "fn,ln='Rafael','Nadal'\n",
      "# fn,ln='Roger','Federer'\n",
      "# fn,ln='Novak','Djokovic'\n",
      "d2=f_pick_player(fn,ln)\n",
      "pid=d2.iloc[0,0]\n",
      "d2\n",
      "\n",
      "\n",
      "rnkg=d_rnks.loc[(d_rnks.iloc[:,2]== pid)] # Extract the player's rankings\n",
      "rnkg.reset_index(drop=True,inplace=True)\n",
      "print rnkg.shape\n",
      "rnkg.plot(x='date',y='ranking')"
     ],
     "language": "python",
     "metadata": {},
     "outputs": [
      {
       "output_type": "stream",
       "stream": "stdout",
       "text": [
        "(640, 4)\n"
       ]
      },
      {
       "metadata": {},
       "output_type": "pyout",
       "prompt_number": 14,
       "text": [
        "<matplotlib.axes._subplots.AxesSubplot at 0x7ff975451fd0>"
       ]
      },
      {
       "metadata": {},
       "output_type": "display_data",
       "png": "[encoded data removed]",
       "text": [
        "<matplotlib.figure.Figure at 0x7ff9756ca8d0>"
       ]
      }
     ],
     "prompt_number": 14
    },
    {
     "cell_type": "code",
     "collapsed": false,
     "input": [
      "print \"Number of weeks at number 1= \",rnkg[rnkg.iloc[:,1]==1].shape[0]\n",
      "rnkg.iloc[400:].plot(x='date',y='ranking')"
     ],
     "language": "python",
     "metadata": {},
     "outputs": [
      {
       "output_type": "stream",
       "stream": "stdout",
       "text": [
        "Number of weeks at number 1=  123\n"
       ]
      },
      {
       "metadata": {},
       "output_type": "pyout",
       "prompt_number": 15,
       "text": [
        "<matplotlib.axes._subplots.AxesSubplot at 0x7ff9753743d0>"
       ]
      },
      {
       "metadata": {},
       "output_type": "display_data",
       "png": "[encoded data removed]",
       "text": [
        "<matplotlib.figure.Figure at 0x7ff9754fe610>"
       ]
      }
     ],
     "prompt_number": 15
    },
    {
     "cell_type": "markdown",
     "metadata": {},
     "source": [
      "# Stuff to do :\n",
      "take 2 players\n",
      "compare weeks when one ranked higher than the other\n"
     ]
    },
    {
     "cell_type": "code",
     "collapsed": false,
     "input": [],
     "language": "python",
     "metadata": {},
     "outputs": []
    }
   ],
   "metadata": {}
  }
 ]
}